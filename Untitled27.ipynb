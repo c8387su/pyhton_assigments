{
  "nbformat": 4,
  "nbformat_minor": 0,
  "metadata": {
    "colab": {
      "name": "Untitled27.ipynb",
      "provenance": [],
      "authorship_tag": "ABX9TyOH2YWUXgty+hfSg6SUC9Rh",
      "include_colab_link": true
    },
    "kernelspec": {
      "name": "python3",
      "display_name": "Python 3"
    },
    "language_info": {
      "name": "python"
    }
  },
  "cells": [
    {
      "cell_type": "markdown",
      "metadata": {
        "id": "view-in-github",
        "colab_type": "text"
      },
      "source": [
        "<a href=\"https://colab.research.google.com/github/c8387su/pyhton_assigments/blob/main/Untitled27.ipynb\" target=\"_parent\"><img src=\"https://colab.research.google.com/assets/colab-badge.svg\" alt=\"Open In Colab\"/></a>"
      ]
    },
    {
      "cell_type": "code",
      "metadata": {
        "id": "E_wIKmxrYROO"
      },
      "source": [
        "  if (i%3) == 0 and (i%5) == 0:\n",
        "    print(\"FizzBuzz\")\n",
        "  elif (i%3) == 0:\n",
        "    print(\"Fizz\")\n",
        "  elif (i%5) == 0:\n",
        "    print(\"Buzz\")\n",
        "  else:\n",
        "    print(i)\n"
      ],
      "execution_count": null,
      "outputs": []
    }
  ]
}